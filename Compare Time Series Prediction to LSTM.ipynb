{
 "cells": [
  {
   "cell_type": "markdown",
   "metadata": {
    "editable": true
   },
   "source": [
    "# Time Series Prediction\n",
    "\n",
    "\n",
    "## Introduction\n",
    "\n",
    "Predicting time series data is useful for a variety of business applications. Companies forecast time series data in order to forecast sales, manage their supply chains, and more.\n",
    "\n",
    "LSTMs are commonly used for time series prediction because they are able to learn the underlying patterns of time series data. \n",
    "\n",
    "In this exercise, we will use an LSTM to forecast the data from a random timeseries by training it on the timeseries.\n",
    "\n",
    "## Instructions\n",
    "\n",
    "You can begin forecasting trends with LSTMs with the following steps:\n",
    "\n",
    "1. Generate your timeseries data in Numpy\n",
    "2. Load the data into PyTorch\n",
    "3. Train your model on the data\n",
    "4. Run the model to predict the next steps in the time series.\n",
    "\n",
    "## Example Code"
   ]
  },
  {
   "cell_type": "markdown",
   "metadata": {
    "editable": true
   },
   "source": [
    "<b> Generate X, Y data </b>"
   ]
  },
  {
   "cell_type": "code",
   "execution_count": 1,
   "metadata": {
    "editable": true
   },
   "outputs": [],
   "source": [
    "# Create a sinusoidal dataset\n",
    "import numpy as np\n",
    "X = np.arange(100)\n",
    "Y = np.array([np.sin(x/10) + 0.01*x for x in X])"
   ]
  },
  {
   "cell_type": "code",
   "execution_count": 2,
   "metadata": {
    "editable": true
   },
   "outputs": [
    {
     "data": {
      "image/png": "[encoded data removed]",
      "text/plain": [
       "<matplotlib.figure.Figure at 0x7f7e5b1c0f60>"
      ]
     },
     "metadata": {
      "needs_background": "light"
     },
     "output_type": "display_data"
    }
   ],
   "source": [
    "# Visualize graph\n",
    "import matplotlib.pyplot as plt\n",
    "%matplotlib inline\n",
    "\n",
    "plt.figure(figsize=[16, 7])\n",
    "plt.scatter(X, Y)\n",
    "plt.xlabel(\"x-axis\")\n",
    "plt.ylabel(\"y-axis\")\n",
    "plt.show()"
   ]
  },
  {
   "cell_type": "markdown",
   "metadata": {
    "editable": true
   },
   "source": [
    "<b> Create an LSTM Model </b>"
   ]
  },
  {
   "cell_type": "code",
   "execution_count": 3,
   "metadata": {
    "editable": true
   },
   "outputs": [],
   "source": [
    "import torch\n",
    "import torch.nn as nn\n",
    "import numpy as np\n",
    "import matplotlib.pyplot as plt"
   ]
  },
  {
   "cell_type": "code",
   "execution_count": 4,
   "metadata": {
    "editable": true
   },
   "outputs": [],
   "source": [
    "class LSTM(nn.Module):\n",
    "    \n",
    "    def __init__(self, hidden_size, seq_length):\n",
    "        super(LSTM, self).__init__()\n",
    "        \n",
    "        self.seq_length = seq_length\n",
    "        \n",
    "        # define 1 LSTM cell which can be used multiple times in the forward method\n",
    "        self.lstm = nn.LSTMCell(1, hidden_size)\n",
    "        \n",
    "        # to predict a specific value for the next time step, output size of the fc layer should be 1\n",
    "        self.fc = nn.Linear(hidden_size, 1)\n",
    "        \n",
    "    def forward(self, x, hidden, cell):\n",
    "        \n",
    "        for i in range(self.seq_length):\n",
    "            \n",
    "            hidden, cell = self.lstm(x[i].unsqueeze(0).unsqueeze(0), (hidden, cell))\n",
    "            \n",
    "        output = self.fc(hidden)\n",
    "        \n",
    "        return output"
   ]
  },
  {
   "cell_type": "code",
   "execution_count": 5,
   "metadata": {
    "editable": true
   },
   "outputs": [
    {
     "name": "stdout",
     "output_type": "stream",
     "text": [
      "Target:  tensor([[ 0.9415]])\n",
      "Target size:  torch.Size([1, 1])\n",
      "Output:  tensor([[ 0.1596]])\n",
      "Output size:  torch.Size([1, 1])\n"
     ]
    }
   ],
   "source": [
    "test_hidden_size = 32\n",
    "test_seq_length = 10\n",
    "\n",
    "# test that the dimensions are as expected\n",
    "test_lstm = LSTM(hidden_size=test_hidden_size, seq_length=test_seq_length)\n",
    "\n",
    "# generate test data points and convert to Tensors\n",
    "test_time_steps = np.arange(test_seq_length+1)\n",
    "test_data = np.array([np.sin(x/10) + 0.01*x for x in test_time_steps])\n",
    "data_tensor = torch.Tensor(test_data)\n",
    "test_input = data_tensor[:-1]\n",
    "test_target = data_tensor[-1].unsqueeze(0).unsqueeze(0)\n",
    "print('Target: ', test_target)\n",
    "print('Target size: ', test_target.size())\n",
    "\n",
    "# initialize cell state and hidden state\n",
    "test_init_hidden = torch.zeros(1, test_hidden_size)\n",
    "test_init_cell = torch.zeros(1, test_hidden_size)\n",
    "\n",
    "# test lstm sizes\n",
    "test_out = test_lstm(test_input, test_init_hidden, test_init_cell)\n",
    "print('Output: ', test_out)\n",
    "print('Output size: ', test_out.size())"
   ]
  },
  {
   "cell_type": "code",
   "execution_count": 6,
   "metadata": {
    "editable": true
   },
   "outputs": [],
   "source": [
    "# train the LSTM\n",
    "def train(lstm, n_steps, hidden_size, seq_length, print_every):\n",
    "\n",
    "    # initialize hidden and cell state\n",
    "    hidden = None\n",
    "    cell = None\n",
    "    \n",
    "    for i in range(n_steps):\n",
    "        \n",
    "        # define training data and convert to Tensors\n",
    "        time_steps = np.arange(i, i+seq_length+1)\n",
    "        data = np.array([np.sin(x/10) + 0.01*x for x in time_steps])\n",
    "        data_tensor = torch.Tensor(data)\n",
    "        x_tensor = data_tensor[:-1]\n",
    "        y_tensor = data_tensor[-1].unsqueeze(0).unsqueeze(0)\n",
    "        \n",
    "        # initialize cell state and hidden state\n",
    "        init_hidden = torch.zeros(1, hidden_size)\n",
    "        init_cell = torch.zeros(1, hidden_size)\n",
    "        \n",
    "        # get output from lstm\n",
    "        prediction = lstm(x_tensor, init_hidden, init_cell)\n",
    "        \n",
    "        # calculate loss\n",
    "        loss = criterion(prediction, y_tensor)\n",
    "        \n",
    "        # zero out gradients\n",
    "        optimizer.zero_grad()\n",
    "        \n",
    "        # perform backprop and update weights \n",
    "        loss.backward()\n",
    "        optimizer.step()\n",
    "        \n",
    "        # display loss and predictions\n",
    "        if i % print_every == 0:        \n",
    "            print('Loss: ', loss.item())\n",
    "            plt.plot(time_steps[:-1], x_tensor.data.numpy(), 'r.') # input\n",
    "            plt.plot(time_steps[-1], prediction.data.numpy().flatten(), 'b.') # predictions\n",
    "            plt.show()\n",
    "    \n",
    "    return lstm"
   ]
  },
  {
   "cell_type": "code",
   "execution_count": 8,
   "metadata": {
    "editable": true
   },
   "outputs": [
    {
     "name": "stdout",
     "output_type": "stream",
     "text": [
      "Loss:  1.7849774360656738\n"
     ]
    },
    {
     "data": {
      "image/png": "[encoded data removed]",
      "text/plain": [
       "<matplotlib.figure.Figure at 0x7f7e5c561c18>"
      ]
     },
     "metadata": {
      "needs_background": "light"
     },
     "output_type": "display_data"
    },
    {
     "name": "stdout",
     "output_type": "stream",
     "text": [
      "Loss:  1.3891818523406982\n"
     ]
    },
    {
     "data": {
      "image/png": "[encoded data removed]",
      "text/plain": [
       "<matplotlib.figure.Figure at 0x7f7e589306d8>"
      ]
     },
     "metadata": {
      "needs_background": "light"
     },
     "output_type": "display_data"
    },
    {
     "name": "stdout",
     "output_type": "stream",
     "text": [
      "Loss:  1.03773832321167\n"
     ]
    },
    {
     "data": {
      "image/png": "[encoded data removed]",
      "text/plain": [
       "<matplotlib.figure.Figure at 0x7f7e58c44a58>"
      ]
     },
     "metadata": {
      "needs_background": "light"
     },
     "output_type": "display_data"
    },
    {
     "name": "stdout",
     "output_type": "stream",
     "text": [
      "Loss:  0.6908252835273743\n"
     ]
    },
    {
     "data": {
      "image/png": "[encoded data removed]",
      "text/plain": [
       "<matplotlib.figure.Figure at 0x7f7e58d3f588>"
      ]
     },
     "metadata": {
      "needs_background": "light"
     },
     "output_type": "display_data"
    },
    {
     "name": "stdout",
     "output_type": "stream",
     "text": [
      "Loss:  0.34326672554016113\n"
     ]
    },
    {
     "data": {
      "image/png": "[encoded data removed]",
      "text/plain": [
       "<matplotlib.figure.Figure at 0x7f7e58d275f8>"
      ]
     },
     "metadata": {
      "needs_background": "light"
     },
     "output_type": "display_data"
    },
    {
     "name": "stdout",
     "output_type": "stream",
     "text": [
      "Loss:  0.056322284042835236\n"
     ]
    },
    {
     "data": {
      "image/png": "[encoded data removed]",
      "text/plain": [
       "<matplotlib.figure.Figure at 0x7f7e5899ee10>"
      ]
     },
     "metadata": {
      "needs_background": "light"
     },
     "output_type": "display_data"
    },
    {
     "name": "stdout",
     "output_type": "stream",
     "text": [
      "Loss:  0.05972397327423096\n"
     ]
    },
    {
     "data": {
      "image/png": "[encoded data removed]",
      "text/plain": [
       "<matplotlib.figure.Figure at 0x7f7e5c5022b0>"
      ]
     },
     "metadata": {
      "needs_background": "light"
     },
     "output_type": "display_data"
    },
    {
     "name": "stdout",
     "output_type": "stream",
     "text": [
      "Loss:  0.2189849466085434\n"
     ]
    },
    {
     "data": {
      "image/png": "[encoded data removed]",
      "text/plain": [
       "<matplotlib.figure.Figure at 0x7f7e58da5588>"
      ]
     },
     "metadata": {
      "needs_background": "light"
     },
     "output_type": "display_data"
    },
    {
     "name": "stdout",
     "output_type": "stream",
     "text": [
      "Loss:  0.23710274696350098\n"
     ]
    },
    {
     "data": {
      "image/png": "[encoded data removed]",
      "text/plain": [
       "<matplotlib.figure.Figure at 0x7f7e588e3ef0>"
      ]
     },
     "metadata": {
      "needs_background": "light"
     },
     "output_type": "display_data"
    },
    {
     "name": "stdout",
     "output_type": "stream",
     "text": [
      "Loss:  0.18602055311203003\n"
     ]
    },
    {
     "data": {
      "image/png": "[encoded data removed]",
      "text/plain": [
       "<matplotlib.figure.Figure at 0x7f7e585f43c8>"
      ]
     },
     "metadata": {
      "needs_background": "light"
     },
     "output_type": "display_data"
    }
   ],
   "source": [
    "# decide hyperparameters\n",
    "hidden_size = 32\n",
    "seq_length = 20\n",
    "\n",
    "# initiate a LSTM\n",
    "lstm = LSTM(hidden_size, seq_length)\n",
    "\n",
    "# define loss and optimizer\n",
    "criterion = nn.MSELoss()\n",
    "optimizer = torch.optim.Adam(lstm.parameters(), lr=0.01)\n",
    "\n",
    "# train the LSTM and monitor results\n",
    "n_steps = 10\n",
    "print_every = 1\n",
    "\n",
    "trained_rnn = train(lstm, n_steps, hidden_size, seq_length, print_every)"
   ]
  },
  {
   "cell_type": "markdown",
   "metadata": {},
   "source": []
  }
 ],
 "metadata": {
  "kernelspec": {
   "display_name": "Python 3",
   "language": "python",
   "name": "python3"
  },
  "language_info": {
   "codemirror_mode": {
    "name": "ipython",
    "version": 3
   },
   "file_extension": ".py",
   "mimetype": "text/x-python",
   "name": "python",
   "nbconvert_exporter": "python",
   "pygments_lexer": "ipython3",
   "version": "3.6.3"
  },
  "ulab_nb_type": "guided"
 },
 "nbformat": 4,
 "nbformat_minor": 4
}
